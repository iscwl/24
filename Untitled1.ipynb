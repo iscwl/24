{
 "cells": [
  {
   "cell_type": "code",
   "execution_count": null,
   "metadata": {},
   "outputs": [],
   "source": [
    "import math\n",
    "radius =eval(input(\"输入五边形顶点到中心的距离：\"))\n",
    "s = 2*radius*math.sin(math.pi/5)\n",
    "area = 5*s*s/(4*math.tan(math.pi/5))\n",
    "print(\"The area of the pentagon is \",area)"
   ]
  },
  {
   "cell_type": "code",
   "execution_count": null,
   "metadata": {},
   "outputs": [],
   "source": [
    "#加密一串文本，并将解密后的文件写入本地保存\n",
    "email ='1173139941@qq.com'\n",
    "retext =''\n",
    "for i in email:\n",
    "    text = ord(i) +1\n",
    "    #retext = chr(text)\n",
    "    retext = ''.join((retext,chr(text)))\n",
    "print(retext)\n",
    "\n",
    "reves_text =''\n",
    "for i in retext:\n",
    "    text =ord(i)-1\n",
    "    reves_text =''.join((reves_text,chr(text)))\n",
    "print(reves_text)\n",
    "\n",
    "outputfile = open(\"day02.txt\",'w')\n",
    "outputfile.write(reves_text)\n",
    "outputfile.close()"
   ]
  },
  {
   "cell_type": "code",
   "execution_count": null,
   "metadata": {},
   "outputs": [],
   "source": [
    "number =input(\"输入一个整数\")\n",
    "revernumber =''\n",
    "for i in number:\n",
    "    revernumber = i + revernumber\n",
    "print(\"the reversed number is\",revernumber)\n"
   ]
  },
  {
   "cell_type": "code",
   "execution_count": null,
   "metadata": {},
   "outputs": [],
   "source": [
    "import math\n",
    "num = eval(input(\"enter the number of sides\"))\n",
    "side =eval(input(\"enter the side\"))\n",
    "area = round(num * side *side /(4 *math.tan(math.pi/num)),2)\n",
    "print(\"the area of the polygon is \",area)\n",
    "\n"
   ]
  },
  {
   "cell_type": "code",
   "execution_count": null,
   "metadata": {},
   "outputs": [],
   "source": [
    "num = eval(input(\"Enter an ASCII code\"))\n",
    "a = chr(num)\n",
    "print(\"the character is\",a)\n"
   ]
  },
  {
   "cell_type": "code",
   "execution_count": null,
   "metadata": {},
   "outputs": [],
   "source": [
    "name = input('输入雇员的姓名：')\n",
    "hourTime = eval(input('输入雇员一周工作的时间：'))\n",
    "payRate = eval(input('输入雇员每小时报酬：'))\n",
    "federalTax = eval(input('输入联邦扣税率：'))\n",
    "stateTax= eval(input('输入州扣税率：'))\n",
    "\n",
    "grossPay = hourTime * payRate\n",
    "federalWithholding = grossPay * federalTax\n",
    "stateWithholding = grossPay * stateTax\n",
    "totalDeduction = federalWithholding + stateWithholding\n",
    "netPay = grossPay - totalDeduction\n",
    "print('雇员姓名：',name, '\\n','一周工作时间：', hourTime, '\\n', '每小时报酬:$', payRate,'\\n',\n",
    "     '总收入:$', grossPay,'\\n', '扣税:','\\n', '联邦扣税额:$',federalWithholding,'\\n',\n",
    "      '州扣税额:$',stateWithholding,'\\n', '总扣税额:$',totalDeduction ,'\\n',\n",
    "     '剩余工资:$', netPay)\n",
    "\n",
    "                     "
   ]
  },
  {
   "cell_type": "code",
   "execution_count": null,
   "metadata": {},
   "outputs": [],
   "source": [
    "import math\n",
    "\n",
    "x1, y1 = eval(input('输入第一个点的经度和纬度：'))\n",
    "x2, y2 = eval(input('输入第二个点的经度和纬度：'))\n",
    "x1 = math.radians(x1)\n",
    "x2 = math.radians(x2)\n",
    "y1 = math.radians(y1)\n",
    "y2 = math.radians(y2)\n",
    "radius = 6371.01\n",
    "d = radius * math.acos(math.sin(x1) * math.sin(x2) + math.cos(x1) * math.cos(x2) * math.cos(y1 - y2))\n",
    "print('地球上两个点之间的距离为：', d, 'km')"
   ]
  }
 ],
 "metadata": {
  "kernelspec": {
   "display_name": "Python 3",
   "language": "python",
   "name": "python3"
  },
  "language_info": {
   "codemirror_mode": {
    "name": "ipython",
    "version": 3
   },
   "file_extension": ".py",
   "mimetype": "text/x-python",
   "name": "python",
   "nbconvert_exporter": "python",
   "pygments_lexer": "ipython3",
   "version": "3.6.4"
  }
 },
 "nbformat": 4,
 "nbformat_minor": 2
}
